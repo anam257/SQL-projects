{
 "cells": [
  {
   "cell_type": "markdown",
   "metadata": {},
   "source": [
    "# Business Analysis Project Using SQL\n",
    "\n",
    "We'll be working with a modified version of a database called [Chinook](https://github.com/lerocha/chinook-database). The Chinook database contains information about a fictional digital music shop - kind of like a mini-iTunes store.\n",
    "\n",
    "The Chinook database contains information about the artists, songs, and albums from the music shop, as well as information on the shop's employees, customers, and the customers purchases. This information is contained in eleven tables.  \n",
    "\n",
    "Here's a schema diagram for the Chinook database.\n",
    "\n",
    "![Chinook schema diagram](https://s3.amazonaws.com/dq-content/189/chinook-schema.svg)\n"
   ]
  },
  {
   "cell_type": "code",
   "execution_count": 1,
   "metadata": {},
   "outputs": [],
   "source": [
    "%%capture\n",
    "%load_ext sql\n",
    "%sql sqlite:///chinook.db"
   ]
  },
  {
   "cell_type": "code",
   "execution_count": 2,
   "metadata": {},
   "outputs": [],
   "source": [
    "import pandas as pd\n",
    "import numpy as np\n",
    "import sqlite3\n",
    "import matplotlib as mpl\n",
    "import matplotlib.pyplot as plt\n",
    "%matplotlib inline\n"
   ]
  },
  {
   "cell_type": "markdown",
   "metadata": {},
   "source": [
    "## Overview of database schema"
   ]
  },
  {
   "cell_type": "code",
   "execution_count": 3,
   "metadata": {},
   "outputs": [
    {
     "name": "stdout",
     "output_type": "stream",
     "text": [
      " * sqlite:///chinook.db\n",
      "Done.\n"
     ]
    },
    {
     "data": {
      "text/html": [
       "<table>\n",
       "    <thead>\n",
       "        <tr>\n",
       "            <th>name</th>\n",
       "            <th>type</th>\n",
       "        </tr>\n",
       "    </thead>\n",
       "    <tbody>\n",
       "        <tr>\n",
       "            <td>album</td>\n",
       "            <td>table</td>\n",
       "        </tr>\n",
       "        <tr>\n",
       "            <td>artist</td>\n",
       "            <td>table</td>\n",
       "        </tr>\n",
       "        <tr>\n",
       "            <td>customer</td>\n",
       "            <td>table</td>\n",
       "        </tr>\n",
       "        <tr>\n",
       "            <td>employee</td>\n",
       "            <td>table</td>\n",
       "        </tr>\n",
       "        <tr>\n",
       "            <td>genre</td>\n",
       "            <td>table</td>\n",
       "        </tr>\n",
       "        <tr>\n",
       "            <td>invoice</td>\n",
       "            <td>table</td>\n",
       "        </tr>\n",
       "        <tr>\n",
       "            <td>invoice_line</td>\n",
       "            <td>table</td>\n",
       "        </tr>\n",
       "        <tr>\n",
       "            <td>media_type</td>\n",
       "            <td>table</td>\n",
       "        </tr>\n",
       "        <tr>\n",
       "            <td>playlist</td>\n",
       "            <td>table</td>\n",
       "        </tr>\n",
       "        <tr>\n",
       "            <td>playlist_track</td>\n",
       "            <td>table</td>\n",
       "        </tr>\n",
       "        <tr>\n",
       "            <td>track</td>\n",
       "            <td>table</td>\n",
       "        </tr>\n",
       "    </tbody>\n",
       "</table>"
      ],
      "text/plain": [
       "[('album', 'table'),\n",
       " ('artist', 'table'),\n",
       " ('customer', 'table'),\n",
       " ('employee', 'table'),\n",
       " ('genre', 'table'),\n",
       " ('invoice', 'table'),\n",
       " ('invoice_line', 'table'),\n",
       " ('media_type', 'table'),\n",
       " ('playlist', 'table'),\n",
       " ('playlist_track', 'table'),\n",
       " ('track', 'table')]"
      ]
     },
     "execution_count": 3,
     "metadata": {},
     "output_type": "execute_result"
    }
   ],
   "source": [
    "%%sql\n",
    "SELECT\n",
    "    name,\n",
    "    type\n",
    "FROM sqlite_master\n",
    "WHERE type IN (\"table\",\"view\");"
   ]
  },
  {
   "cell_type": "markdown",
   "metadata": {},
   "source": [
    "# Selecting New Albums to Purchase\n",
    "\n",
    "The Chinook record store has just signed a deal with a new record label, and we have been tasked with selecting the first three albums that will be added to the store, from a list of four. All four albums are by artists that don't have any tracks in the store right now - we have the artist names, and the genre of music they produce:\n",
    "\n",
    "| Artist Name| Genre |\n",
    "| --- | --- | \n",
    "| Regal | Hip-Hop |\n",
    "| Red Tone | Punk | \n",
    "| Meteor and the Girls | Pop | \n",
    "| Slim Jim Bites | Blues | \n",
    "\n",
    "The record label specializes in artists from the USA, and they have given Chinook some money to advertise the new albums in the USA, so we're interested in finding out which genres sell the best in the USA.\n",
    "\n",
    "- Subquery - to get all the USA based customers with invoice details\n",
    "- Main query - to compute percentage of tracks_sold in each genre \n",
    "\n"
   ]
  },
  {
   "cell_type": "code",
   "execution_count": 4,
   "metadata": {},
   "outputs": [
    {
     "name": "stdout",
     "output_type": "stream",
     "text": [
      " * sqlite:///chinook.db\n",
      "Done.\n"
     ]
    },
    {
     "data": {
      "text/html": [
       "<table>\n",
       "    <thead>\n",
       "        <tr>\n",
       "            <th>genre_name</th>\n",
       "            <th>tracks_sold</th>\n",
       "            <th>percentage_sold</th>\n",
       "        </tr>\n",
       "    </thead>\n",
       "    <tbody>\n",
       "        <tr>\n",
       "            <td>Rock</td>\n",
       "            <td>561</td>\n",
       "            <td>0.53</td>\n",
       "        </tr>\n",
       "        <tr>\n",
       "            <td>Alternative &amp; Punk</td>\n",
       "            <td>130</td>\n",
       "            <td>0.12</td>\n",
       "        </tr>\n",
       "        <tr>\n",
       "            <td>Metal</td>\n",
       "            <td>124</td>\n",
       "            <td>0.12</td>\n",
       "        </tr>\n",
       "        <tr>\n",
       "            <td>R&amp;B/Soul</td>\n",
       "            <td>53</td>\n",
       "            <td>0.05</td>\n",
       "        </tr>\n",
       "        <tr>\n",
       "            <td>Blues</td>\n",
       "            <td>36</td>\n",
       "            <td>0.03</td>\n",
       "        </tr>\n",
       "        <tr>\n",
       "            <td>Alternative</td>\n",
       "            <td>35</td>\n",
       "            <td>0.03</td>\n",
       "        </tr>\n",
       "        <tr>\n",
       "            <td>Latin</td>\n",
       "            <td>22</td>\n",
       "            <td>0.02</td>\n",
       "        </tr>\n",
       "        <tr>\n",
       "            <td>Pop</td>\n",
       "            <td>22</td>\n",
       "            <td>0.02</td>\n",
       "        </tr>\n",
       "        <tr>\n",
       "            <td>Hip Hop/Rap</td>\n",
       "            <td>20</td>\n",
       "            <td>0.02</td>\n",
       "        </tr>\n",
       "        <tr>\n",
       "            <td>Jazz</td>\n",
       "            <td>14</td>\n",
       "            <td>0.01</td>\n",
       "        </tr>\n",
       "        <tr>\n",
       "            <td>Easy Listening</td>\n",
       "            <td>13</td>\n",
       "            <td>0.01</td>\n",
       "        </tr>\n",
       "        <tr>\n",
       "            <td>Reggae</td>\n",
       "            <td>6</td>\n",
       "            <td>0.01</td>\n",
       "        </tr>\n",
       "        <tr>\n",
       "            <td>Electronica/Dance</td>\n",
       "            <td>5</td>\n",
       "            <td>0.0</td>\n",
       "        </tr>\n",
       "        <tr>\n",
       "            <td>Classical</td>\n",
       "            <td>4</td>\n",
       "            <td>0.0</td>\n",
       "        </tr>\n",
       "        <tr>\n",
       "            <td>Heavy Metal</td>\n",
       "            <td>3</td>\n",
       "            <td>0.0</td>\n",
       "        </tr>\n",
       "        <tr>\n",
       "            <td>Soundtrack</td>\n",
       "            <td>2</td>\n",
       "            <td>0.0</td>\n",
       "        </tr>\n",
       "        <tr>\n",
       "            <td>TV Shows</td>\n",
       "            <td>1</td>\n",
       "            <td>0.0</td>\n",
       "        </tr>\n",
       "    </tbody>\n",
       "</table>"
      ],
      "text/plain": [
       "[('Rock', 561, 0.53),\n",
       " ('Alternative & Punk', 130, 0.12),\n",
       " ('Metal', 124, 0.12),\n",
       " ('R&B/Soul', 53, 0.05),\n",
       " ('Blues', 36, 0.03),\n",
       " ('Alternative', 35, 0.03),\n",
       " ('Latin', 22, 0.02),\n",
       " ('Pop', 22, 0.02),\n",
       " ('Hip Hop/Rap', 20, 0.02),\n",
       " ('Jazz', 14, 0.01),\n",
       " ('Easy Listening', 13, 0.01),\n",
       " ('Reggae', 6, 0.01),\n",
       " ('Electronica/Dance', 5, 0.0),\n",
       " ('Classical', 4, 0.0),\n",
       " ('Heavy Metal', 3, 0.0),\n",
       " ('Soundtrack', 2, 0.0),\n",
       " ('TV Shows', 1, 0.0)]"
      ]
     },
     "execution_count": 4,
     "metadata": {},
     "output_type": "execute_result"
    }
   ],
   "source": [
    "\n",
    "%%sql\n",
    "WITH usa_tracks_sold AS \n",
    "    (SELECT * \n",
    "     FROM customer c\n",
    "     INNER JOIN invoice i ON i.customer_id=c.customer_id\n",
    "     INNER JOIN invoice_line il ON i.invoice_id=il.invoice_id WHERE c.country=\"USA\")\n",
    "\n",
    "SELECT\n",
    "    g.name genre_name,\n",
    "    SUM(uts.quantity) tracks_sold,\n",
    "    ROUND (CAST(count(uts.invoice_line_id) AS FLOAT) / (\n",
    "        SELECT COUNT(*) From usa_tracks_sold), 2) AS percentage_sold\n",
    "FROM usa_tracks_sold uts\n",
    "INNER JOIN track t ON uts.track_id=t.track_id \n",
    "INNER JOIN genre g ON g.genre_id=t.genre_id GROUP BY 1 ORDER BY 2 DESC;       \n",
    "\n"
   ]
  },
  {
   "cell_type": "markdown",
   "metadata": {},
   "source": [
    "**REMARK:** \n",
    "The _most popular genres in the USA_ are **Rock**, **Alternative & Punk**, and **Metal**, followed with a big gap by all the others. Since our choice is limited by Hip-Hop, Punk, Pop, and Blues genres, and since we have to choose 3 out of 4 albums, we can say that only one of the albums to be advertised is related to these popular genres (**Punk**). Then, we should select the album of **Blues** genre (on the 5th place by popularity) and the one of **Pop** (on the 7th place):\n",
    "\n",
    "| Artist Name          | Genre   |\n",
    "| -------------------- | ------- |\n",
    "| Red Tone             | Punk    |\n",
    "| Slim Jim Bites       | Blues   |\n",
    "| Meteor and the Girls | Pop     |\n",
    "\n",
    "As we examine the popularity of genre based on records sold, Punk, Blue, and Pop are the genres that should be added to the record label.\n",
    "\n",
    "It's worth keeping in mind that combined, these three genres only make up only 17% of total sales, so we should be on the lookout for artists and albums from the 'rock' genre, which accounts for 53% of sales."
   ]
  },
  {
   "cell_type": "markdown",
   "metadata": {},
   "source": [
    "## Analyzing the employee performance \n",
    "\n",
    "Each customer in the Chinook store, when they first make a purchase, gets assigned to a sales support agent within the company. We're going to analyze the purchases of customers belonging to each sales support agent, in order to compare their sales performance.\n",
    "\n",
    "Let's find the total dollar amounts of sales assigned to each sales support agent, together with their country, birthdate, hire date, and number and % of customers. The tables to be used here are `employee`, `customer`, and `invoice`. Again, we'll represent this information also in graphical form, using a grouped bar chart. Since we're going to use this kind of charts further in the project, we'll create a function for it."
   ]
  },
  {
   "cell_type": "code",
   "execution_count": 5,
   "metadata": {
    "scrolled": false
   },
   "outputs": [
    {
     "name": "stdout",
     "output_type": "stream",
     "text": [
      " * sqlite:///chinook.db\n",
      "Done.\n"
     ]
    },
    {
     "data": {
      "text/html": [
       "<table>\n",
       "    <thead>\n",
       "        <tr>\n",
       "            <th>employee_name</th>\n",
       "            <th>hire_date</th>\n",
       "            <th>total_sales</th>\n",
       "            <th>percentage_sales</th>\n",
       "        </tr>\n",
       "    </thead>\n",
       "    <tbody>\n",
       "        <tr>\n",
       "            <td>Jane Peacock</td>\n",
       "            <td>2017-04-01 00:00:00</td>\n",
       "            <td>1731.5100000000039</td>\n",
       "            <td>36.77</td>\n",
       "        </tr>\n",
       "        <tr>\n",
       "            <td>Margaret Park</td>\n",
       "            <td>2017-05-03 00:00:00</td>\n",
       "            <td>1584.0000000000034</td>\n",
       "            <td>33.63</td>\n",
       "        </tr>\n",
       "        <tr>\n",
       "            <td>Steve Johnson</td>\n",
       "            <td>2017-10-17 00:00:00</td>\n",
       "            <td>1393.920000000002</td>\n",
       "            <td>29.6</td>\n",
       "        </tr>\n",
       "    </tbody>\n",
       "</table>"
      ],
      "text/plain": [
       "[('Jane Peacock', '2017-04-01 00:00:00', 1731.5100000000039, 36.77),\n",
       " ('Margaret Park', '2017-05-03 00:00:00', 1584.0000000000034, 33.63),\n",
       " ('Steve Johnson', '2017-10-17 00:00:00', 1393.920000000002, 29.6)]"
      ]
     },
     "execution_count": 5,
     "metadata": {},
     "output_type": "execute_result"
    }
   ],
   "source": [
    "%%sql\n",
    "\n",
    "WITH employee_sales AS \n",
    "    (SELECT e.employee_id, \n",
    "            e.first_name|| \" \"||e.last_name employee_name,\n",
    "            e.hire_date,\n",
    "            c.customer_id, i.invoice_id,i.total \n",
    "    FROM employee e \n",
    "    INNER JOIN customer c ON e.employee_id=c.support_rep_id \n",
    "    INNER JOIN invoice i ON c.customer_id=i.customer_id)\n",
    "    \n",
    "SELECT es.employee_name,\n",
    "       es.hire_date,\n",
    "       SUM(es.total) total_sales,\n",
    "       ROUND((CAST(SUM(es.total) AS FLOAT)/(SELECT SUM(total) FROM employee_sales))*100,2) percentage_sales\n",
    "FROM employee_sales es GROUP BY 1 ORDER BY 3 DESC;"
   ]
  },
  {
   "cell_type": "markdown",
   "metadata": {},
   "source": [
    "There are 3 sales support agents among the employees, they are all from Canada and were employed in 2017 (April, May and October). The youngest of them is Jane Peacock, the oldest - Margaret Park.\n",
    "\n",
    "On one hand, we see a direct correlation between the hire date of a sales support agent and the total amount of sales. However, we also see that the first 2 employees have only 1 month difference in their hire date; moreover, Margaret Park, being hired later, had 2 more customers. Despite that, they have 3% difference in their total amounts of sales, whereas Steve Johnson, being hired more than 6 months after Jane Peacock, has only 7% less sales than him, and 4% less customers.\n",
    "\n",
    "Given that, Jane Peacock demonstrates the best sales performance, while Margaret Park - the worst."
   ]
  },
  {
   "cell_type": "markdown",
   "metadata": {},
   "source": [
    "## Analyzing Sales by Country\n",
    "\n",
    "There are a number of countries with only one customer, we will group these customers as \"other\" in our analysis. \n",
    "\n",
    "Let's now compare data on purchases for customers from different countries, including total number and % of customers, total value and % of sales, average value of sales per customer, average order value. Because in our database there are some countries with only one customer, we'll collect those countries into an \"Other\" group. The results will be sorted by the total sales in descending order, with the \"Other\" group at the bottom of the table, and then displayed as a grouped bar chart. All the data necessary for this analysis is contained in the tables customer and invoice."
   ]
  },
  {
   "cell_type": "code",
   "execution_count": 6,
   "metadata": {},
   "outputs": [
    {
     "name": "stdout",
     "output_type": "stream",
     "text": [
      " * sqlite:///chinook.db\n",
      "Done.\n"
     ]
    },
    {
     "data": {
      "text/html": [
       "<table>\n",
       "    <thead>\n",
       "        <tr>\n",
       "            <th>country</th>\n",
       "            <th>total_customers</th>\n",
       "            <th>total_sales</th>\n",
       "            <th>avg_sales_per_customer</th>\n",
       "            <th>avg_order_value</th>\n",
       "            <th>sort</th>\n",
       "        </tr>\n",
       "    </thead>\n",
       "    <tbody>\n",
       "        <tr>\n",
       "            <td>Czech Republic</td>\n",
       "            <td>2</td>\n",
       "            <td>273.2</td>\n",
       "            <td>9.11</td>\n",
       "            <td>9.11</td>\n",
       "            <td>0</td>\n",
       "        </tr>\n",
       "        <tr>\n",
       "            <td>United Kingdom</td>\n",
       "            <td>3</td>\n",
       "            <td>245.5</td>\n",
       "            <td>8.77</td>\n",
       "            <td>8.77</td>\n",
       "            <td>0</td>\n",
       "        </tr>\n",
       "        <tr>\n",
       "            <td>India</td>\n",
       "            <td>2</td>\n",
       "            <td>183.2</td>\n",
       "            <td>8.72</td>\n",
       "            <td>8.72</td>\n",
       "            <td>0</td>\n",
       "        </tr>\n",
       "        <tr>\n",
       "            <td>Germany</td>\n",
       "            <td>4</td>\n",
       "            <td>334.6</td>\n",
       "            <td>8.16</td>\n",
       "            <td>8.16</td>\n",
       "            <td>0</td>\n",
       "        </tr>\n",
       "        <tr>\n",
       "            <td>USA</td>\n",
       "            <td>13</td>\n",
       "            <td>1040.5</td>\n",
       "            <td>7.94</td>\n",
       "            <td>7.94</td>\n",
       "            <td>0</td>\n",
       "        </tr>\n",
       "        <tr>\n",
       "            <td>France</td>\n",
       "            <td>5</td>\n",
       "            <td>389.1</td>\n",
       "            <td>7.78</td>\n",
       "            <td>7.78</td>\n",
       "            <td>0</td>\n",
       "        </tr>\n",
       "        <tr>\n",
       "            <td>Canada</td>\n",
       "            <td>8</td>\n",
       "            <td>535.6</td>\n",
       "            <td>7.05</td>\n",
       "            <td>7.05</td>\n",
       "            <td>0</td>\n",
       "        </tr>\n",
       "        <tr>\n",
       "            <td>Brazil</td>\n",
       "            <td>5</td>\n",
       "            <td>427.7</td>\n",
       "            <td>7.01</td>\n",
       "            <td>7.01</td>\n",
       "            <td>0</td>\n",
       "        </tr>\n",
       "        <tr>\n",
       "            <td>Portugal</td>\n",
       "            <td>2</td>\n",
       "            <td>185.1</td>\n",
       "            <td>6.38</td>\n",
       "            <td>6.38</td>\n",
       "            <td>0</td>\n",
       "        </tr>\n",
       "        <tr>\n",
       "            <td>other</td>\n",
       "            <td>15</td>\n",
       "            <td>1094.9</td>\n",
       "            <td>7.45</td>\n",
       "            <td>7.45</td>\n",
       "            <td>1</td>\n",
       "        </tr>\n",
       "    </tbody>\n",
       "</table>"
      ],
      "text/plain": [
       "[('Czech Republic', 2, 273.2, 9.11, 9.11, 0),\n",
       " ('United Kingdom', 3, 245.5, 8.77, 8.77, 0),\n",
       " ('India', 2, 183.2, 8.72, 8.72, 0),\n",
       " ('Germany', 4, 334.6, 8.16, 8.16, 0),\n",
       " ('USA', 13, 1040.5, 7.94, 7.94, 0),\n",
       " ('France', 5, 389.1, 7.78, 7.78, 0),\n",
       " ('Canada', 8, 535.6, 7.05, 7.05, 0),\n",
       " ('Brazil', 5, 427.7, 7.01, 7.01, 0),\n",
       " ('Portugal', 2, 185.1, 6.38, 6.38, 0),\n",
       " ('other', 15, 1094.9, 7.45, 7.45, 1)]"
      ]
     },
     "execution_count": 6,
     "metadata": {},
     "output_type": "execute_result"
    }
   ],
   "source": [
    "%%sql\n",
    "WITH country_or_other AS\n",
    "     (SELECT \n",
    "            CASE\n",
    "                WHEN (SELECT COUNT(*) FROM customer WHERE country=c.country)=1 THEN \"other\"\n",
    "                ELSE country\n",
    "            END country,\n",
    "            customer_id\n",
    "     FROM customer c)\n",
    "    \n",
    "SELECT  c.country,\n",
    "        COUNT(distinct c.customer_id) total_customers,\n",
    "        ROUND(SUM(i.total),1) total_sales, \n",
    "        ROUND(CAST(SUM(i.total) AS FLOAT)/COUNT(c.customer_id),2) avg_sales_per_customer, \n",
    "        ROUND(CAST(SUM(i.total) AS FLOAT)/COUNT(i.invoice_id),2) avg_order_value,\n",
    "        CASE\n",
    "            WHEN country = \"other\" THEN 1\n",
    "            ELSE 0\n",
    "        END AS sort\n",
    "FROM country_or_other c \n",
    "LEFT JOIN invoice i ON c.customer_id=i.customer_id \n",
    "GROUP BY 1 \n",
    "ORDER BY sort ASC, 4 DESC;"
   ]
  },
  {
   "cell_type": "markdown",
   "metadata": {},
   "source": [
    "**REMARK**  Based on our analysis, Czech Republic, UK and India are top 3 countries with highest average sales per customer. There is a potential to tap the market in these countries."
   ]
  },
  {
   "cell_type": "markdown",
   "metadata": {},
   "source": [
    "## Analyzing percentage of purchases of individual tracks vs whole albums\n",
    "\n",
    "The Chinook store is setup in a way that allows customer to make purchases in one of the two ways:\n",
    "\n",
    "- purchase a whole album\n",
    "- purchase a collection of one or more individual tracks.\n",
    "\n",
    "The store does not let customers purchase a whole album, and then add individual tracks to that same purchase (unless they do that by choosing each track manually). When customers purchase albums they are charged the same price as if they had purchased each of those tracks separately.\n",
    "\n",
    "Management are currently considering changing their purchasing strategy to save money. The strategy they are considering is to purchase only the most popular tracks from each album from record companies, instead of purchasing every track from an album.\n",
    "\n",
    "- **Question:** So, we find out what percentage of purchases are individual tracks vs whole albums, so that management can use this data to understand the effect this decision might have on overall revenue.\n",
    "\n",
    "- For performing an analysis we have 'edge cases' which prevent us from getting a 100% accurate answer to our question. In this instance, we have two edge cases to consider:\n",
    "\n",
    "    - Albums that have only one or two tracks are likely to be purchased by customers as part of a collection of individual tracks.\n",
    "    - Customers may decide to manually select every track from an album, and then add a few individual tracks from other albums to their purchase.\n",
    "    \n",
    "Since our analysis is concerned with maximizing revenue we can safely ignore edge cases. \n",
    "\n",
    "**Solution: We start by analyzing by identifying whether each invoice has all the tracks from an album.**\n",
    "- Comparing list of tracks from invoice with list of tracks from an album\n",
    "    - Find the album to compare the purchase to by looking up the album that one of the purchased tracks belongs to. It doesn't matter which track we pick, since if it's an album purchase, that album will be the same for all tracks.\n",
    "    - NOTE: Album has list of tracks, invoice has list of invoice_line_ids, and invoice_line_id has list of tracks"
   ]
  },
  {
   "cell_type": "code",
   "execution_count": 7,
   "metadata": {},
   "outputs": [
    {
     "name": "stdout",
     "output_type": "stream",
     "text": [
      " * sqlite:///chinook.db\n",
      "Done.\n"
     ]
    },
    {
     "data": {
      "text/html": [
       "<table>\n",
       "    <thead>\n",
       "        <tr>\n",
       "            <th>album_purchase</th>\n",
       "            <th>number_of_invoices</th>\n",
       "            <th>percent</th>\n",
       "        </tr>\n",
       "    </thead>\n",
       "    <tbody>\n",
       "        <tr>\n",
       "            <td>no</td>\n",
       "            <td>500</td>\n",
       "            <td>0.8143322475570033</td>\n",
       "        </tr>\n",
       "        <tr>\n",
       "            <td>yes</td>\n",
       "            <td>114</td>\n",
       "            <td>0.18566775244299674</td>\n",
       "        </tr>\n",
       "    </tbody>\n",
       "</table>"
      ],
      "text/plain": [
       "[('no', 500, 0.8143322475570033), ('yes', 114, 0.18566775244299674)]"
      ]
     },
     "execution_count": 7,
     "metadata": {},
     "output_type": "execute_result"
    }
   ],
   "source": [
    "%%sql\n",
    "WITH invoice_first_track AS\n",
    "    (\n",
    "     SELECT\n",
    "         il.invoice_id invoice_id,\n",
    "         MIN(il.track_id) first_track_id\n",
    "     FROM invoice_line il\n",
    "     GROUP BY 1\n",
    "    )\n",
    "\n",
    "SELECT\n",
    "    album_purchase,\n",
    "    COUNT(invoice_id) number_of_invoices,\n",
    "    CAST(count(invoice_id) AS FLOAT) / (\n",
    "                                         SELECT COUNT(*) FROM invoice\n",
    "                                      ) percent\n",
    "FROM\n",
    "    (\n",
    "    SELECT\n",
    "        ifs.*,\n",
    "        CASE\n",
    "            WHEN\n",
    "                 (\n",
    "                  SELECT t.track_id FROM track t\n",
    "                  WHERE t.album_id = (\n",
    "                                      SELECT t2.album_id FROM track t2\n",
    "                                      WHERE t2.track_id = ifs.first_track_id\n",
    "                                     ) \n",
    "\n",
    "                  EXCEPT \n",
    "\n",
    "                  SELECT il2.track_id FROM invoice_line il2\n",
    "                  WHERE il2.invoice_id = ifs.invoice_id\n",
    "                 ) IS NULL\n",
    "             AND\n",
    "                 (\n",
    "                  SELECT il2.track_id FROM invoice_line il2\n",
    "                  WHERE il2.invoice_id = ifs.invoice_id\n",
    "\n",
    "                  EXCEPT \n",
    "\n",
    "                  SELECT t.track_id FROM track t\n",
    "                  WHERE t.album_id = (\n",
    "                                      SELECT t2.album_id FROM track t2\n",
    "                                      WHERE t2.track_id = ifs.first_track_id\n",
    "                                     ) \n",
    "                 ) IS NULL\n",
    "             THEN \"yes\"\n",
    "             ELSE \"no\"\n",
    "         END AS \"album_purchase\"\n",
    "     FROM invoice_first_track ifs\n",
    "    )\n",
    "GROUP BY album_purchase;"
   ]
  },
  {
   "cell_type": "markdown",
   "metadata": {},
   "source": [
    "\n",
    "Album purchases account for 18.6% of purchases. \n",
    "\n",
    "This means that the new strategy in consideration (purchasing only the most popular tracks from each album from record companies instead of purchasing the whole albums) will definitely help to maximize the overall revenue."
   ]
  },
  {
   "cell_type": "markdown",
   "metadata": {},
   "source": [
    "## Which artist is used in the most playlists?"
   ]
  },
  {
   "cell_type": "code",
   "execution_count": 8,
   "metadata": {},
   "outputs": [
    {
     "name": "stdout",
     "output_type": "stream",
     "text": [
      " * sqlite:///chinook.db\n",
      "Done.\n"
     ]
    },
    {
     "data": {
      "text/html": [
       "<table>\n",
       "    <thead>\n",
       "        <tr>\n",
       "            <th>name</th>\n",
       "            <th>in_no_of_playlists</th>\n",
       "            <th>percentage</th>\n",
       "        </tr>\n",
       "    </thead>\n",
       "    <tbody>\n",
       "        <tr>\n",
       "            <td>Iron Maiden</td>\n",
       "            <td>516</td>\n",
       "            <td>28.67</td>\n",
       "        </tr>\n",
       "        <tr>\n",
       "            <td>U2</td>\n",
       "            <td>333</td>\n",
       "            <td>18.5</td>\n",
       "        </tr>\n",
       "        <tr>\n",
       "            <td>Metallica</td>\n",
       "            <td>296</td>\n",
       "            <td>16.44</td>\n",
       "        </tr>\n",
       "        <tr>\n",
       "            <td>Led Zeppelin</td>\n",
       "            <td>252</td>\n",
       "            <td>14.0</td>\n",
       "        </tr>\n",
       "        <tr>\n",
       "            <td>Deep Purple</td>\n",
       "            <td>226</td>\n",
       "            <td>12.56</td>\n",
       "        </tr>\n",
       "        <tr>\n",
       "            <td>Lost</td>\n",
       "            <td>184</td>\n",
       "            <td>10.22</td>\n",
       "        </tr>\n",
       "        <tr>\n",
       "            <td>Pearl Jam</td>\n",
       "            <td>177</td>\n",
       "            <td>9.83</td>\n",
       "        </tr>\n",
       "        <tr>\n",
       "            <td>Eric Clapton</td>\n",
       "            <td>145</td>\n",
       "            <td>8.06</td>\n",
       "        </tr>\n",
       "        <tr>\n",
       "            <td>Faith No More</td>\n",
       "            <td>145</td>\n",
       "            <td>8.06</td>\n",
       "        </tr>\n",
       "        <tr>\n",
       "            <td>Lenny Kravitz</td>\n",
       "            <td>143</td>\n",
       "            <td>7.94</td>\n",
       "        </tr>\n",
       "    </tbody>\n",
       "</table>"
      ],
      "text/plain": [
       "[('Iron Maiden', 516, 28.67),\n",
       " ('U2', 333, 18.5),\n",
       " ('Metallica', 296, 16.44),\n",
       " ('Led Zeppelin', 252, 14.0),\n",
       " ('Deep Purple', 226, 12.56),\n",
       " ('Lost', 184, 10.22),\n",
       " ('Pearl Jam', 177, 9.83),\n",
       " ('Eric Clapton', 145, 8.06),\n",
       " ('Faith No More', 145, 8.06),\n",
       " ('Lenny Kravitz', 143, 7.94)]"
      ]
     },
     "execution_count": 8,
     "metadata": {},
     "output_type": "execute_result"
    }
   ],
   "source": [
    "%%sql\n",
    "\n",
    "WITH artist_track AS \n",
    "                (SELECT a.name,t.track_id FROM artist a \n",
    "                 LEFT JOIN album al ON a.artist_id=al.artist_id \n",
    "                 LEFT JOIN track t ON t.album_id=al.album_id ORDER BY 1),\n",
    "     playlist_name_track AS \n",
    "                      (SELECT p.name playlist_name, pt.track_id \n",
    "                      FROM playlist_track pt \n",
    "                      LEFT JOIN playlist p \n",
    "                      ON p.playlist_id=pt.playlist_id \n",
    "                      ORDER BY 1) \n",
    "    \n",
    "SELECT at.name, \n",
    "       COUNT(pnt.playlist_name) AS in_no_of_playlists,\n",
    "       ROUND(CAST(COUNT(pnt.playlist_name) AS FLOAT)/ (SELECT COUNT(*) FROM playlist),2) percentage FROM artist_track at \n",
    "LEFT JOIN playlist_name_track pnt ON at.track_id=pnt.track_id GROUP BY 1 ORDER BY 2 DESC LIMIT 10;"
   ]
  },
  {
   "cell_type": "markdown",
   "metadata": {},
   "source": [
    "**REMARK:** Iron Maiden, U2, Metallica, Led Zeppelin and Deep Purple who are listed among top 5 popular artists."
   ]
  },
  {
   "cell_type": "markdown",
   "metadata": {},
   "source": [
    "## How many tracks have been purchased vs not purchased?"
   ]
  },
  {
   "cell_type": "code",
   "execution_count": 9,
   "metadata": {},
   "outputs": [
    {
     "name": "stdout",
     "output_type": "stream",
     "text": [
      " * sqlite:///chinook.db\n",
      "Done.\n"
     ]
    },
    {
     "data": {
      "text/html": [
       "<table>\n",
       "    <thead>\n",
       "        <tr>\n",
       "            <th>tracks_purchased</th>\n",
       "            <th>tracks_not_purchased</th>\n",
       "        </tr>\n",
       "    </thead>\n",
       "    <tbody>\n",
       "        <tr>\n",
       "            <td>1806</td>\n",
       "            <td>1697</td>\n",
       "        </tr>\n",
       "    </tbody>\n",
       "</table>"
      ],
      "text/plain": [
       "[(1806, 1697)]"
      ]
     },
     "execution_count": 9,
     "metadata": {},
     "output_type": "execute_result"
    }
   ],
   "source": [
    "%%sql\n",
    "WITH album_track AS\n",
    "    (\n",
    "     SELECT\n",
    "         a.album_id album_id,\n",
    "         t.track_id track_id\n",
    "     FROM album a \n",
    "     LEFT JOIN track t ON t.album_id=a.album_id\n",
    "    )\n",
    "\n",
    "SELECT\n",
    "    COUNT(DISTINCT(il.track_id)) tracks_purchased,\n",
    "    (COUNT(DISTINCT(at.track_id)) - COUNT(DISTINCT(il.track_id))) tracks_not_purchased\n",
    "FROM album_track at \n",
    "LEFT JOIN invoice_line il ON at.track_id=il.track_id;"
   ]
  },
  {
   "cell_type": "markdown",
   "metadata": {},
   "source": [
    "Almost half of all the unique tracks available in the Chinook store were never bought, probably being of unpopular genre or unpopular artists. Possible solutions here may include a new _advertising campaign_ (especialy in the USA, as the biggest segment of market), _sales promotion_, additional _training and motivation_ of the sales support agents."
   ]
  },
  {
   "cell_type": "markdown",
   "metadata": {},
   "source": [
    "## Is the range of tracks in the store reflective of their sales popularity?"
   ]
  },
  {
   "cell_type": "code",
   "execution_count": 10,
   "metadata": {},
   "outputs": [
    {
     "name": "stdout",
     "output_type": "stream",
     "text": [
      " * sqlite:///chinook.db\n",
      "Done.\n"
     ]
    },
    {
     "data": {
      "text/html": [
       "<table>\n",
       "    <thead>\n",
       "        <tr>\n",
       "            <th>range_of_tracks</th>\n",
       "            <th>distinct_tracks_sold</th>\n",
       "            <th>total_tracks_sold</th>\n",
       "            <th>distinct_percentage_of_tracks_sold(%)</th>\n",
       "        </tr>\n",
       "    </thead>\n",
       "    <tbody>\n",
       "        <tr>\n",
       "            <td>3503</td>\n",
       "            <td>1806</td>\n",
       "            <td>4757</td>\n",
       "            <td>52.0</td>\n",
       "        </tr>\n",
       "    </tbody>\n",
       "</table>"
      ],
      "text/plain": [
       "[(3503, 1806, 4757, 52.0)]"
      ]
     },
     "execution_count": 10,
     "metadata": {},
     "output_type": "execute_result"
    }
   ],
   "source": [
    "%%sql\n",
    "SELECT (SELECT COUNT(track_id) FROM track) range_of_tracks,\n",
    "       COUNT(DISTINCT(track_id)) distinct_tracks_sold, \n",
    "       COUNT(*) total_tracks_sold,\n",
    "       ROUND(CAST(COUNT(DISTINCT(track_id)) AS FLOAT) /(SELECT COUNT(track_id) FROM track),2)*100 \"distinct_percentage_of_tracks_sold(%)\"\n",
    "FROM invoice_line;"
   ]
  },
  {
   "cell_type": "markdown",
   "metadata": {},
   "source": [
    "Over 50% of the tracks sold from the available tracks. Since, total tracks sold is almost 3 times more than the distinct tracks sold infers that some of the tracks are very popular and we sold more than 1 time."
   ]
  },
  {
   "cell_type": "markdown",
   "metadata": {},
   "source": [
    "## Do protected vs non-protected media types have an effect on popularity?\n",
    "\n",
    "If a track has a protected media type, it means that it has some associated rules for using its content. It can be encrypted using some form of digital rights management encryption. To play such a file, playback must occur inside the protected media path. In addition, the user might have to acquire rights to the content.\n",
    "\n",
    "Let's start by looking at the unique values of media types and whether there are any protected types among them."
   ]
  },
  {
   "cell_type": "code",
   "execution_count": 11,
   "metadata": {},
   "outputs": [
    {
     "name": "stdout",
     "output_type": "stream",
     "text": [
      " * sqlite:///chinook.db\n",
      "Done.\n"
     ]
    },
    {
     "data": {
      "text/html": [
       "<table>\n",
       "    <thead>\n",
       "        <tr>\n",
       "            <th>name</th>\n",
       "            <th>total_sales</th>\n",
       "        </tr>\n",
       "    </thead>\n",
       "    <tbody>\n",
       "        <tr>\n",
       "            <td>MPEG audio file</td>\n",
       "            <td>4259</td>\n",
       "        </tr>\n",
       "        <tr>\n",
       "            <td>Protected AAC audio file</td>\n",
       "            <td>439</td>\n",
       "        </tr>\n",
       "        <tr>\n",
       "            <td>Purchased AAC audio file</td>\n",
       "            <td>35</td>\n",
       "        </tr>\n",
       "        <tr>\n",
       "            <td>AAC audio file</td>\n",
       "            <td>21</td>\n",
       "        </tr>\n",
       "        <tr>\n",
       "            <td>Protected MPEG-4 video file</td>\n",
       "            <td>3</td>\n",
       "        </tr>\n",
       "    </tbody>\n",
       "</table>"
      ],
      "text/plain": [
       "[('MPEG audio file', 4259),\n",
       " ('Protected AAC audio file', 439),\n",
       " ('Purchased AAC audio file', 35),\n",
       " ('AAC audio file', 21),\n",
       " ('Protected MPEG-4 video file', 3)]"
      ]
     },
     "execution_count": 11,
     "metadata": {},
     "output_type": "execute_result"
    }
   ],
   "source": [
    "%%sql\n",
    "SELECT mt.name, \n",
    "       COUNT(mt.media_type_id) total_sales\n",
    "FROM media_type mt\n",
    "INNER JOIN track t ON mt.media_type_id=t.media_type_id\n",
    "INNER JOIN invoice_line il ON t.track_id=il.track_id\n",
    "GROUP BY 1 \n",
    "ORDER BY 2 DESC;\n",
    "       "
   ]
  },
  {
   "cell_type": "markdown",
   "metadata": {},
   "source": [
    "**REMARK** Two of the five media types are protected.\n",
    "\n",
    "Protected media type is less popular when compared to unprotected media. It could be because copyright restriction. "
   ]
  },
  {
   "cell_type": "code",
   "execution_count": 13,
   "metadata": {},
   "outputs": [
    {
     "name": "stdout",
     "output_type": "stream",
     "text": [
      "\n",
      "\n",
      "               unique_tracks  pct_unique  sold_unique  pct_sold_unique\n",
      "media_type                                                            \n",
      "Non-protected           3052        87.0         1652             54.0\n",
      "Protected                451        13.0          154             34.0\n",
      "\n",
      "\n",
      "               sold  pct_sold\n",
      "media_type                   \n",
      "Non-protected  4315      91.0\n",
      "Protected       442       9.0\n",
      "\n",
      "\n"
     ]
    },
    {
     "data": {
      "image/png": "[encoded data removed]",
      "text/plain": [
       "<Figure size 720x432 with 1 Axes>"
      ]
     },
     "metadata": {
      "needs_background": "light"
     },
     "output_type": "display_data"
    },
    {
     "name": "stdout",
     "output_type": "stream",
     "text": [
      "\n",
      "\n"
     ]
    },
    {
     "data": {
      "image/png": "[encoded data removed]",
      "text/plain": [
       "<Figure size 864x432 with 3 Axes>"
      ]
     },
     "metadata": {
      "needs_background": "light"
     },
     "output_type": "display_data"
    }
   ],
   "source": [
    "# Defining a function for creating grouped bar charts\n",
    "def plot_grouped_bar_chart(fig_width, fig_height, \n",
    "                           column1, column2, \n",
    "                           label1, label2, \n",
    "                           title, ylabel, \n",
    "                           ylim_lower, ylim_upper, \n",
    "                           loc, rotation, bbox_to_anchor):\n",
    "    \n",
    "    # Converting series to lists\n",
    "    column1_list = column1.to_list()   \n",
    "    column2_list = column2.to_list()\n",
    "        \n",
    "    # Creating labels from the index\n",
    "    labels = df.index.to_list()\n",
    "    \n",
    "    # Specifying the label locations and the width of the bars\n",
    "    x = np.arange(len(labels)) \n",
    "    width = 0.35\n",
    "    \n",
    "    # Plotting the data\n",
    "    fig, ax = plt.subplots(figsize=(10,6))\n",
    "    ax.bar(x - width/2,\n",
    "           column1_list,\n",
    "           width, \n",
    "           label=label1)\n",
    "    ax.bar(x + width/2,\n",
    "           column2_list, \n",
    "           width,\n",
    "           label=label2)\n",
    "    ax.set_title(title, fontsize=30)\n",
    "    ax.set_ylabel(ylabel, fontsize=20)\n",
    "    ax.set_ylim(ylim_lower, ylim_upper)\n",
    "    ax.set_xticks(x)\n",
    "    ax.set_xticklabels(labels, \n",
    "                       fontsize=17, \n",
    "                       rotation=rotation)\n",
    "    ax.tick_params(bottom = False, \n",
    "                   labelsize=17)\n",
    "    ax.spines[\"top\"].set_visible(False)\n",
    "    ax.spines[\"right\"].set_visible(False)\n",
    "    ax.spines[\"bottom\"].set_visible(False)\n",
    "    ax.legend(loc=loc, \n",
    "              bbox_to_anchor=bbox_to_anchor,\n",
    "              fontsize=16, \n",
    "              frameon=False)\n",
    "\n",
    "\n",
    "query = \"\"\" \n",
    "WITH non_protected AS (SELECT COUNT(mt.name) to_be_renamed, \n",
    "                              COUNT(DISTINCT(t.track_id)) unique_tracks, \n",
    "                              COUNT(DISTINCT(il.track_id)) sold_unique,\n",
    "                              COUNT(il.track_id) sold\n",
    "                         FROM media_type mt\n",
    "                              INNER JOIN track t \n",
    "                              ON mt.media_type_id = t.media_type_id\n",
    "                       \n",
    "                              LEFT JOIN invoice_line il \n",
    "                              ON il.track_id = t.track_id                        \n",
    "                        WHERE mt.name != \"Protected AAC audio file\" \n",
    "                          AND mt.name != \"Protected MPEG-4 video file\"),\n",
    "\n",
    "     protected AS     (SELECT COUNT(mt.name) to_be_renamed, \n",
    "                              COUNT(DISTINCT(t.track_id)) unique_tracks, \n",
    "                              COUNT(DISTINCT(il.track_id)) sold_unique,\n",
    "                              COUNT(il.track_id) sold\n",
    "                         FROM media_type mt\n",
    "                              INNER JOIN track t \n",
    "                              ON mt.media_type_id = t.media_type_id\n",
    "                       \n",
    "                              LEFT JOIN invoice_line il \n",
    "                              ON il.track_id = t.track_id                        \n",
    "                        WHERE mt.name = \"Protected AAC audio file\" \n",
    "                           OR mt.name = \"Protected MPEG-4 video file\"),\n",
    "    \n",
    "     united AS        (SELECT CASE \n",
    "                              WHEN to_be_renamed != 0 THEN \"Non-protected\" \n",
    "                              END AS media_type,\n",
    "                              \n",
    "                              unique_tracks,     \n",
    "                              sold_unique,\n",
    "                              ROUND(sold_unique * 100.0 / unique_tracks, 0) pct_sold_unique,\n",
    "                              sold  \n",
    "                         FROM non_protected  \n",
    "\n",
    "                        UNION\n",
    "\n",
    "                       SELECT CASE \n",
    "                              WHEN to_be_renamed != 0 THEN \"Protected\" \n",
    "                              END AS media_type,\n",
    "                       \n",
    "                              unique_tracks,     \n",
    "                              sold_unique,\n",
    "                              ROUND(sold_unique * 100.0 / unique_tracks, 0) pct_sold_unique,\n",
    "                              sold\n",
    "                         FROM protected)\n",
    "    \n",
    "SELECT media_type,\n",
    "       unique_tracks,\n",
    "       ROUND(unique_tracks * 100.0 / (SELECT SUM(unique_tracks) \n",
    "                               FROM united), 0) pct_unique,    \n",
    "       sold_unique,\n",
    "       pct_sold_unique,\n",
    "       sold,\n",
    "       ROUND(sold * 100.0 / (SELECT SUM(sold) \n",
    "                               FROM united), 0) pct_sold\n",
    "FROM united;\n",
    "\"\"\"\n",
    "\n",
    "# Reading SQL results into a pandas DataFrame\n",
    "conn = sqlite3.connect(\"chinook.db\")\n",
    "df = pd.read_sql_query(query, conn).set_index(\"media_type\", drop=True) \n",
    "\n",
    "# Printing the dataframe\n",
    "print(\"\\n\")\n",
    "print(df.iloc[:, :4])\n",
    "print(\"\\n\")\n",
    "print(df.iloc[:, 4:])\n",
    "print(\"\\n\")\n",
    "\n",
    "# Creating a grouped bar chart for protected vs. non-protected tracks\n",
    "plot_grouped_bar_chart(fig_width=10,\n",
    "                       fig_height=6,\n",
    "                       column1=df[\"pct_unique\"], \n",
    "                       column2=df[\"pct_sold\"], \n",
    "                       label1=\"Unique\",\n",
    "                       label2=\"Sold\", \n",
    "                       title=\"Protected vs. Non-Protected Tracks: \\n Assortment & Purchases\", \n",
    "                       ylabel=\"%\",\n",
    "                       ylim_lower=0,\n",
    "                       ylim_upper=100,                      \n",
    "                       loc=0,\n",
    "                       rotation=0,\n",
    "                       bbox_to_anchor=None)\n",
    "plt.show()\n",
    "print(\"\\n\")\n",
    "\n",
    "# Creatting a new dataframe for pie charts\n",
    "df1 = df[[\"pct_sold_unique\"]].copy()\n",
    "df1[[\"pct_not_sold_unique\"]] = 100- df1[[\"pct_sold_unique\"]]\n",
    "df1 = df1.transpose() \n",
    "\n",
    "# Creating labels\n",
    "labels = [\"Sold\", \"Not sold\"]\n",
    "\n",
    "# Selecting data to plot\n",
    "sizes_1 = df1[\"Non-protected\"]\n",
    "sizes_2 = df1[\"Protected\"]\n",
    "\n",
    "# Plotting the data using pie charts\n",
    "fig,ax = plt.subplots(figsize=(12,6))\n",
    "fig.suptitle(\"Unique Tracks\", \n",
    "             fontsize=27, \n",
    "             fontweight=\"bold\", \n",
    "             y=0.98)\n",
    "\n",
    "ax1 = fig.add_subplot(1, 2, 1)\n",
    "ax2 = fig.add_subplot(1, 2, 2)\n",
    "\n",
    "ax1.pie(sizes_1, \n",
    "        autopct=\"%1.0f%%\", \n",
    "        startangle=90, \n",
    "        colors=(\"limegreen\", \"orangered\"))\n",
    "ax1.set_title(\"Non-protected\", \n",
    "              fontsize=27, \n",
    "              y=0.92)\n",
    "\n",
    "ax2.pie(sizes_2, \n",
    "        autopct=\"%1.0f%%\", \n",
    "        startangle=90, \n",
    "        colors=(\"limegreen\", \"orangered\"))\n",
    "ax2.set_title(\"Protected\", \n",
    "              fontsize=27, \n",
    "              y=0.92)\n",
    "\n",
    "ax.axis(\"equal\")  # Equal aspect to draw the pies as a circle\n",
    "ax.set_xticklabels(\"\", fontsize=0)\n",
    "ax.set_yticklabels(\"\", fontsize=0)\n",
    "ax.tick_params(axis=\"both\", \n",
    "               left = False, \n",
    "               bottom=False)\n",
    "\n",
    "for key,spine in ax.spines.items():\n",
    "        spine.set_visible(False) \n",
    "        \n",
    "ax1.legend(fontsize=18, \n",
    "           labels=labels,            \n",
    "           bbox_to_anchor=(0.85,0.25), \n",
    "           frameon=False)\n",
    "plt.show()"
   ]
  },
  {
   "cell_type": "markdown",
   "metadata": {},
   "source": [
    "From this table, we can make the following observations:\n",
    "- Only 13\\% of all the unique tracks available in the Chinook store are of protected media types.\n",
    "- From all the unique tracks of protected media types, only 34\\% were sold, while from those of non-protected ones - 54\\%.\n",
    "- Among all the tracks that were sold, those of protected media types amounts only to 9%.\n",
    "\n",
    "In a nutshell, the **tracks of protected media types are much less popular** than those of non-protected, both in terms of the store assortment and, especially, in terms of sales. It can be easily explained by a cumbersome way of their using, which is not really justified when it comes to buying media products for entertainment. Hence, as a future strategy, it is not recommended to the store to purchase such tracks from record companies.\n",
    "## Conclusion\n",
    "In this project, we have analyzed a modified version of the Chinook database for finding the answers to our business questions. Below are the main results of this work (emphasized are the factors and suggestions for maximizing overall revenue):\n",
    "- From the 4 albums in consideration, the following 3 ones should be  selected for purchasing and advertising in the USA, based on the genre popularity rating in  this country: **Red Tone** (Punk), **Slim Jim Bites** (Blues), **Meteor and the Girls** (Pop).\n",
    "- Of the 3 sales support agents, **Jane Peacock** demonstrates the most effective sales performance, while Margaret Park - the least. The main contributing factor is the employed service; other factors are the number of clients and the employee's age.\n",
    "- Of all the countries, the **USA** represents the major part of the market, in terms of both the total sales and the number of customers.\n",
    "- Customers tend to buy **individual tracks** much more often than the whole albums. Hence, it's recommended to the Chinook store to purchase only the most popular tracks from each album from record companies. \n",
    "- The tracks of the artists present in the most playlists are all of Classical genre, which is not popular among customers. Purchasing them cannot be considered as a potentially profitable startegy for the Chinook store. \n",
    "- Almost half of all the unique tracks of the Chinook store were never bought. Possible solutions here may include a new **advertising campaign**, **sales promotion**, additional **training and motivation** of sales support agents.\n",
    "- The tracks of protected media types are much less popular than those of **non-protected**, both in terms of the store assortment and, especially, in terms of sales. Hence the store should avoid purchasing such tracks."
   ]
  }
 ],
 "metadata": {
  "kernelspec": {
   "display_name": "Python 3",
   "language": "python",
   "name": "python3"
  },
  "language_info": {
   "codemirror_mode": {
    "name": "ipython",
    "version": 3
   },
   "file_extension": ".py",
   "mimetype": "text/x-python",
   "name": "python",
   "nbconvert_exporter": "python",
   "pygments_lexer": "ipython3",
   "version": "3.7.3"
  }
 },
 "nbformat": 4,
 "nbformat_minor": 2
}
